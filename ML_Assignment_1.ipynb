{
  "cells": [
    {
      "cell_type": "code",
      "execution_count": 38,
      "metadata": {
        "colab": {
          "base_uri": "https://localhost:8080/"
        },
        "id": "7dvdHfOCSs3W",
        "outputId": "1ae27dbf-78c2-4303-a184-18c6c1d31d10"
      },
      "outputs": [
        {
          "name": "stdout",
          "output_type": "stream",
          "text": [
            "Array shape: (3, 5)\n",
            "[[10 16  0 12 13]\n",
            " [ 0  6 19  4  8]\n",
            " [10  0  6  3  2]]\n"
          ]
        }
      ],
      "source": [
        "import numpy as np\n",
        "a= np.random.randint(low=1, high=21, size=15)\n",
        "a= a.reshape(3, 5)\n",
        "print(\"Array shape:\", a.shape)\n",
        "a[a.argmax(axis=1), np.arange(a.shape[0])] = 0\n",
        "print(a)"
      ]
    },
    {
      "cell_type": "code",
      "execution_count": 23,
      "metadata": {
        "colab": {
          "base_uri": "https://localhost:8080/"
        },
        "id": "0okLs32FEbDI",
        "outputId": "3f4da1cb-d3ea-4b6f-f864-ed9ff7a58747"
      },
      "outputs": [
        {
          "name": "stdout",
          "output_type": "stream",
          "text": [
            "Array shape: (4, 3)\n",
            "Array type: <class 'numpy.ndarray'>\n",
            "Array data type: int32\n",
            "[[ 1  2  3]\n",
            " [ 4  5  6]\n",
            " [ 7  8  9]\n",
            " [10 11 12]]\n"
          ]
        }
      ],
      "source": [
        "import numpy as np\n",
        "\n",
        "b = np.array([[1, 2, 3], [4, 5, 6], [7, 8, 9], [10, 11, 12]], dtype=np.int32)\n",
        "print(\"Array shape:\", b.shape)\n",
        "print(\"Array type:\", type(b))\n",
        "print(\"Array data type:\", b.dtype)\n",
        "print(b)"
      ]
    },
    {
      "cell_type": "code",
      "execution_count": 26,
      "metadata": {
        "colab": {
          "base_uri": "https://localhost:8080/"
        },
        "id": "RnLOFWCkFfIZ",
        "outputId": "0ef78840-e04a-440a-bd07-056390b642ef"
      },
      "outputs": [
        {
          "name": "stdout",
          "output_type": "stream",
          "text": [
            "Eigenvalues [2. 1.]\n",
            "Right eigenvectors:\n",
            "[[0.89442719 0.70710678]\n",
            " [0.4472136  0.70710678]]\n"
          ]
        }
      ],
      "source": [
        "import numpy as np\n",
        "c = np.array([[3, -2], [1, 0]])\n",
        "eigenvalues, eigenvectors = np.linalg.eig(c)\n",
        "print(\"Eigenvalues\", eigenvalues)\n",
        "print(\"Right eigenvectors:\")\n",
        "print(eigenvectors)"
      ]
    },
    {
      "cell_type": "code",
      "execution_count": 29,
      "metadata": {
        "colab": {
          "base_uri": "https://localhost:8080/"
        },
        "id": "VIdKcM2cGIGx",
        "outputId": "10b91093-1a0c-43ac-8a7d-36fb0fb92963"
      },
      "outputs": [
        {
          "name": "stdout",
          "output_type": "stream",
          "text": [
            "Sum of diagonal elements/TRace: 4\n"
          ]
        }
      ],
      "source": [
        "import numpy as np\n",
        "d= np.array([[0, 1, 2], [3, 4, 5]])\n",
        "sum= np.trace(d)\n",
        "print(\"Sum of diagonal elements/TRace:\", sum)"
      ]
    },
    {
      "cell_type": "code",
      "execution_count": 30,
      "metadata": {
        "colab": {
          "base_uri": "https://localhost:8080/"
        },
        "id": "tz3Gg-E8Ggz_",
        "outputId": "55318a78-1fe4-4018-c79b-57d89e8fd684"
      },
      "outputs": [
        {
          "name": "stdout",
          "output_type": "stream",
          "text": [
            "Original array:\n",
            " [[1 2]\n",
            " [3 4]\n",
            " [5 6]]\n",
            "Reshaped array:\n",
            " [[0 1 2]\n",
            " [3 4 5]]\n"
          ]
        }
      ],
      "source": [
        "import numpy as np\n",
        "e= np.array([[1, 2], [3, 4], [5, 6]])\n",
        "\n",
        "f= e.reshape((2, 3))\n",
        "print(\"Original array:\\n\", e)\n",
        "print(\"Reshaped array:\\n\", f)"
      ]
    },
    {
      "cell_type": "code",
      "execution_count": 31,
      "metadata": {
        "colab": {
          "base_uri": "https://localhost:8080/"
        },
        "id": "PdNETH-IG841",
        "outputId": "169c773c-832e-4c88-c160-8adda2b683fb"
      },
      "outputs": [
        {
          "name": "stdout",
          "output_type": "stream",
          "text": [
            "Original array:\n",
            " [[1 2 3]\n",
            " [4 5 6]]\n",
            "Reshaped array:\n",
            " [[0 1]\n",
            " [2 3]\n",
            " [4 5]]\n"
          ]
        }
      ],
      "source": [
        "import numpy as np\n",
        "g = np.array([[1, 2, 3], [4, 5, 6]])\n",
        "h= g.reshape((3, 2))\n",
        "print(\"Original array:\\n\", g)\n",
        "print(\"Reshaped array:\\n\", h)"
      ]
    },
    {
      "cell_type": "code",
      "execution_count": 39,
      "metadata": {
        "colab": {
          "base_uri": "https://localhost:8080/",
          "height": 406
        },
        "id": "D_WTVn_AHeDP",
        "outputId": "205fe048-36de-4494-fe8a-4189d5037796"
      },
      "outputs": [
        {
          "data": {
            "image/png": "[encoded data removed]",
            "text/plain": [
              "<Figure size 640x480 with 1 Axes>"
            ]
          },
          "metadata": {},
          "output_type": "display_data"
        }
      ],
      "source": [
        "import matplotlib.pyplot as plt\n",
        "\n",
        "languages = ['Java', 'Python', 'PHP', 'JavaScript', 'C#', 'C++']\n",
        "popularity = [22.2, 17.6, 8.8, 8, 7.7, 6.7]\n",
        "plt.pie(popularity, labels=languages, autopct='%1.1f%%')\n",
        "plt.show()"
      ]
    }
  ],
  "metadata": {
    "colab": {
      "provenance": []
    },
    "kernelspec": {
      "display_name": "Python 3",
      "name": "python3"
    },
    "language_info": {
      "name": "python"
    }
  },
  "nbformat": 4,
  "nbformat_minor": 0
}
